{
 "cells": [
  {
   "cell_type": "code",
   "execution_count": null,
   "id": "3a4fd329",
   "metadata": {},
   "outputs": [],
   "source": [
    "import cv2\n",
    "import numpy as np\n",
    "\n",
    "#Reading the image\n",
    "img = cv2.imread('nature.jpg')\n",
    "\n",
    "#Gauusian kernel for sharpening\n",
    "gaussian_blur = cv2.GaussianBlur(img, (7,7), 2)\n",
    "\n",
    "#Sharpening using addweighted()\n",
    "sharpened1 = cv2.addWeighted(img,1.5, gaussian_blur, -0.5, 0)\n",
    "sharpened2 = cv2.addWeighted(img,3.5, gaussian_blur, -2.5, 0)\n",
    "sharpened3 = cv2.addWeighted(img,7.5, gaussian_blur, -6.5, 0)\n",
    "\n",
    "#Showing the sharpened Images\n",
    "cv2.imshow('Sharpened 3', sharpened3)\n",
    "cv2.imshow('Sharpened 2', sharpened2)\n",
    "cv2.imshow('Sharpened 1', sharpened1)\n",
    "cv2.imshow('original', img)\n",
    "cv2.waitKey(0)"
   ]
  },
  {
   "cell_type": "code",
   "execution_count": null,
   "id": "1040043c",
   "metadata": {},
   "outputs": [],
   "source": []
  }
 ],
 "metadata": {
  "kernelspec": {
   "display_name": "Python 3 (ipykernel)",
   "language": "python",
   "name": "python3"
  },
  "language_info": {
   "codemirror_mode": {
    "name": "ipython",
    "version": 3
   },
   "file_extension": ".py",
   "mimetype": "text/x-python",
   "name": "python",
   "nbconvert_exporter": "python",
   "pygments_lexer": "ipython3",
   "version": "3.11.5"
  }
 },
 "nbformat": 4,
 "nbformat_minor": 5
}
